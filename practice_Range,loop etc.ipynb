{
 "cells": [
  {
   "cell_type": "markdown",
   "id": "235446c5",
   "metadata": {},
   "source": [
    "# Iterating through a range\n",
    "- for loop\n",
    "- Syntax : key word called for"
   ]
  },
  {
   "cell_type": "code",
   "execution_count": 30,
   "id": "8a34d905",
   "metadata": {},
   "outputs": [],
   "source": [
    "r = list(range(5,15))"
   ]
  },
  {
   "cell_type": "code",
   "execution_count": 31,
   "id": "5fd29921",
   "metadata": {},
   "outputs": [
    {
     "name": "stdout",
     "output_type": "stream",
     "text": [
      "5\n",
      "6\n",
      "7\n",
      "8\n",
      "9\n",
      "10\n",
      "11\n",
      "12\n",
      "13\n",
      "14\n"
     ]
    }
   ],
   "source": [
    "for i in r:\n",
    "    print(i)"
   ]
  },
  {
   "cell_type": "code",
   "execution_count": 32,
   "id": "16fde452",
   "metadata": {},
   "outputs": [],
   "source": [
    "companies=[\"amezon\",\"flipkart\",\"snapdeal\"]"
   ]
  },
  {
   "cell_type": "code",
   "execution_count": 33,
   "id": "287c10f0",
   "metadata": {},
   "outputs": [
    {
     "name": "stdout",
     "output_type": "stream",
     "text": [
      "www.amezon.com\n",
      "www.flipkart.com\n",
      "www.snapdeal.com\n"
     ]
    }
   ],
   "source": [
    "for website in companies:\n",
    "    print(\"www.\"+website+\".com\")"
   ]
  },
  {
   "cell_type": "code",
   "execution_count": 34,
   "id": "9cf0e0fb",
   "metadata": {},
   "outputs": [],
   "source": [
    "website_list=[]\n",
    "for websites in companies:\n",
    "    web=\"www.\"+ website+\".com\"\n",
    "    website_list.append(web)"
   ]
  },
  {
   "cell_type": "code",
   "execution_count": 35,
   "id": "2397c09c",
   "metadata": {},
   "outputs": [
    {
     "data": {
      "text/plain": [
       "['www.snapdeal.com', 'www.snapdeal.com', 'www.snapdeal.com']"
      ]
     },
     "execution_count": 35,
     "metadata": {},
     "output_type": "execute_result"
    }
   ],
   "source": [
    "website_list"
   ]
  },
  {
   "cell_type": "code",
   "execution_count": 36,
   "id": "0072ce37",
   "metadata": {},
   "outputs": [],
   "source": [
    "r=range(1,10)"
   ]
  },
  {
   "cell_type": "code",
   "execution_count": 37,
   "id": "c9a776f2",
   "metadata": {},
   "outputs": [],
   "source": [
    "sqs=[]\n",
    "for i in r:\n",
    "    sqs.append(i*i)\n",
    "    "
   ]
  },
  {
   "cell_type": "code",
   "execution_count": 38,
   "id": "00145b96",
   "metadata": {
    "scrolled": true
   },
   "outputs": [
    {
     "data": {
      "text/plain": [
       "[1, 4, 9, 16, 25, 36, 49, 64, 81]"
      ]
     },
     "execution_count": 38,
     "metadata": {},
     "output_type": "execute_result"
    }
   ],
   "source": [
    "sqs"
   ]
  },
  {
   "cell_type": "code",
   "execution_count": 39,
   "id": "f59719d8",
   "metadata": {},
   "outputs": [
    {
     "data": {
      "text/plain": [
       "[1, 4, 9, 16, 25, 36, 49, 64, 81]"
      ]
     },
     "execution_count": 39,
     "metadata": {},
     "output_type": "execute_result"
    }
   ],
   "source": [
    "sqs=[i*i for i in range(1,10)]\n",
    "sqs"
   ]
  },
  {
   "cell_type": "code",
   "execution_count": 40,
   "id": "6c3906a5",
   "metadata": {},
   "outputs": [
    {
     "name": "stdout",
     "output_type": "stream",
     "text": [
      "5\n",
      "6\n",
      "7\n",
      "8\n",
      "9\n"
     ]
    }
   ],
   "source": [
    "# For Loop\n",
    "for number in range(5,10): # Print numbers from 5 to 9. Default increment is 1.\n",
    "  print(number)"
   ]
  },
  {
   "cell_type": "code",
   "execution_count": 41,
   "id": "27b88b80",
   "metadata": {},
   "outputs": [
    {
     "name": "stdout",
     "output_type": "stream",
     "text": [
      "1\n",
      "2\n",
      "3\n",
      "4\n",
      "5\n",
      "6\n",
      "7\n",
      "8\n",
      "9\n",
      "10\n"
     ]
    }
   ],
   "source": [
    "# print numbers 1 to 10\n",
    "\n",
    "\n",
    "for i in range(1,11,1):\n",
    "  print(i)\n"
   ]
  },
  {
   "cell_type": "markdown",
   "id": "aba0c05b",
   "metadata": {},
   "source": [
    "# Q1. print all even numbers from 1 to 20\n",
    "# Q2. print all odd numbers from 1 to 20"
   ]
  },
  {
   "cell_type": "code",
   "execution_count": 42,
   "id": "e1469cb1",
   "metadata": {},
   "outputs": [
    {
     "name": "stdout",
     "output_type": "stream",
     "text": [
      "2\n",
      "4\n",
      "6\n",
      "8\n",
      "10\n",
      "12\n",
      "14\n",
      "16\n",
      "18\n"
     ]
    }
   ],
   "source": [
    "for i in range(2,20,2): #EVen\n",
    "    print(i)"
   ]
  },
  {
   "cell_type": "code",
   "execution_count": 43,
   "id": "a5f76859",
   "metadata": {},
   "outputs": [
    {
     "name": "stdout",
     "output_type": "stream",
     "text": [
      "1\n",
      "3\n",
      "5\n",
      "7\n",
      "9\n",
      "11\n",
      "13\n",
      "15\n",
      "17\n",
      "19\n"
     ]
    }
   ],
   "source": [
    "for i in range(1,20,2): #Odd\n",
    "    print(i)"
   ]
  },
  {
   "cell_type": "code",
   "execution_count": 44,
   "id": "f6aa160f",
   "metadata": {},
   "outputs": [
    {
     "name": "stdout",
     "output_type": "stream",
     "text": [
      "0 0\n",
      "1 1\n",
      "2 4\n",
      "3 9\n",
      "4 16\n",
      "5 25\n",
      "6 36\n",
      "7 49\n",
      "8 64\n",
      "9 81\n",
      "10 100\n"
     ]
    }
   ],
   "source": [
    "for num in range(11): # 0 to 9 \n",
    "  print(num, num*num) # num and its square"
   ]
  },
  {
   "cell_type": "code",
   "execution_count": 45,
   "id": "64cebe0c",
   "metadata": {},
   "outputs": [],
   "source": [
    "vk= {\"name\":\"virat\",\"age\":32,\"team\":\"RCB\"}"
   ]
  },
  {
   "cell_type": "code",
   "execution_count": 46,
   "id": "fb052adb",
   "metadata": {},
   "outputs": [
    {
     "data": {
      "text/plain": [
       "dict_keys(['name', 'age', 'team'])"
      ]
     },
     "execution_count": 46,
     "metadata": {},
     "output_type": "execute_result"
    }
   ],
   "source": [
    "vk.keys()"
   ]
  },
  {
   "cell_type": "code",
   "execution_count": 47,
   "id": "9adbdfa3",
   "metadata": {},
   "outputs": [
    {
     "data": {
      "text/plain": [
       "dict_values(['virat', 32, 'RCB'])"
      ]
     },
     "execution_count": 47,
     "metadata": {},
     "output_type": "execute_result"
    }
   ],
   "source": [
    "vk.values()"
   ]
  },
  {
   "cell_type": "code",
   "execution_count": 48,
   "id": "0e69eec2",
   "metadata": {},
   "outputs": [
    {
     "name": "stdout",
     "output_type": "stream",
     "text": [
      "name\n",
      "age\n",
      "team\n"
     ]
    }
   ],
   "source": [
    "for i in vk:\n",
    "    print(i)"
   ]
  },
  {
   "cell_type": "code",
   "execution_count": 49,
   "id": "b846adfa",
   "metadata": {},
   "outputs": [
    {
     "name": "stdout",
     "output_type": "stream",
     "text": [
      "name virat\n",
      "age 32\n",
      "team RCB\n"
     ]
    }
   ],
   "source": [
    "for i ,j in vk.items():\n",
    "    print(i,j)"
   ]
  },
  {
   "cell_type": "code",
   "execution_count": 50,
   "id": "5bb62680",
   "metadata": {},
   "outputs": [
    {
     "name": "stdout",
     "output_type": "stream",
     "text": [
      "virat\n",
      "32\n",
      "RCB\n"
     ]
    }
   ],
   "source": [
    "for i in vk.values():\n",
    "    print(i)"
   ]
  },
  {
   "cell_type": "code",
   "execution_count": 51,
   "id": "1e50a781",
   "metadata": {},
   "outputs": [
    {
     "name": "stdout",
     "output_type": "stream",
     "text": [
      "1\n",
      "2\n",
      "3\n",
      "4\n",
      "5\n"
     ]
    }
   ],
   "source": [
    "for i in range(1,11):\n",
    "    print(i)\n",
    "    if i==5:\n",
    "        break"
   ]
  },
  {
   "cell_type": "code",
   "execution_count": 52,
   "id": "fad82348",
   "metadata": {},
   "outputs": [],
   "source": [
    "for i in range(1,11):\n",
    "    pass"
   ]
  },
  {
   "cell_type": "code",
   "execution_count": 53,
   "id": "d2fd6a0f",
   "metadata": {},
   "outputs": [],
   "source": [
    "#user has to use some input\n",
    "#reverse the input\n",
    "#input=123 , output=321"
   ]
  },
  {
   "cell_type": "code",
   "execution_count": 59,
   "id": "294cadee",
   "metadata": {},
   "outputs": [
    {
     "name": "stdout",
     "output_type": "stream",
     "text": [
      "Enter a value:123\n",
      "reversed number is 321\n"
     ]
    }
   ],
   "source": [
    "nums= input(\"Enter a value:\")\n",
    "nums= nums[::-1]\n",
    "print(\"reversed number is\",nums)"
   ]
  },
  {
   "cell_type": "code",
   "execution_count": 61,
   "id": "fdb3770a",
   "metadata": {},
   "outputs": [],
   "source": [
    "#get sum of element in a list use for loop\n",
    "nums=[1,2,3]\n",
    "#result=6"
   ]
  },
  {
   "cell_type": "code",
   "execution_count": 62,
   "id": "6915b959",
   "metadata": {},
   "outputs": [
    {
     "name": "stdout",
     "output_type": "stream",
     "text": [
      "6\n"
     ]
    }
   ],
   "source": [
    "res=0\n",
    "for i in nums:\n",
    "    res += i\n",
    "print(res)\n"
   ]
  },
  {
   "cell_type": "code",
   "execution_count": 71,
   "id": "2dd58db9",
   "metadata": {},
   "outputs": [
    {
     "name": "stdout",
     "output_type": "stream",
     "text": [
      "6\n"
     ]
    }
   ],
   "source": [
    "res=0\n",
    "for i in nums:\n",
    "    res = res+i\n",
    "print(res)\n"
   ]
  },
  {
   "cell_type": "code",
   "execution_count": 72,
   "id": "a053013e",
   "metadata": {},
   "outputs": [
    {
     "name": "stdout",
     "output_type": "stream",
     "text": [
      "rev num:4321\n"
     ]
    }
   ],
   "source": [
    "num = 1234\n",
    "rev=0\n",
    "while num !=0:\n",
    "    dig=num%10\n",
    "    rev= rev*10 + dig\n",
    "    num//=10\n",
    "print(\"rev num:\"+str(rev))"
   ]
  },
  {
   "cell_type": "code",
   "execution_count": 73,
   "id": "cfd9836a",
   "metadata": {},
   "outputs": [
    {
     "data": {
      "text/plain": [
       "11"
      ]
     },
     "execution_count": 73,
     "metadata": {},
     "output_type": "execute_result"
    }
   ],
   "source": [
    "100//9 #ignore floating point"
   ]
  },
  {
   "cell_type": "code",
   "execution_count": 74,
   "id": "ecc8d840",
   "metadata": {},
   "outputs": [],
   "source": [
    "nums=[1,2,3,4,5,6,7]"
   ]
  },
  {
   "cell_type": "code",
   "execution_count": 75,
   "id": "85cbde78",
   "metadata": {},
   "outputs": [
    {
     "name": "stdout",
     "output_type": "stream",
     "text": [
      "1\n",
      "2\n",
      "3\n",
      "4\n",
      "5\n",
      "6\n",
      "7\n"
     ]
    }
   ],
   "source": [
    "for i in nums:\n",
    "    print(i)"
   ]
  },
  {
   "cell_type": "code",
   "execution_count": null,
   "id": "cb85762a",
   "metadata": {},
   "outputs": [],
   "source": []
  },
  {
   "cell_type": "code",
   "execution_count": null,
   "id": "40683221",
   "metadata": {},
   "outputs": [],
   "source": []
  },
  {
   "cell_type": "code",
   "execution_count": null,
   "id": "90e2f030",
   "metadata": {},
   "outputs": [],
   "source": []
  }
 ],
 "metadata": {
  "kernelspec": {
   "display_name": "Python 3 (ipykernel)",
   "language": "python",
   "name": "python3"
  },
  "language_info": {
   "codemirror_mode": {
    "name": "ipython",
    "version": 3
   },
   "file_extension": ".py",
   "mimetype": "text/x-python",
   "name": "python",
   "nbconvert_exporter": "python",
   "pygments_lexer": "ipython3",
   "version": "3.9.13"
  }
 },
 "nbformat": 4,
 "nbformat_minor": 5
}
